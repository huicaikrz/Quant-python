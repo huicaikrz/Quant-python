{
 "cells": [
  {
   "cell_type": "markdown",
   "metadata": {
    "collapsed": true
   },
   "source": [
    "# Simulate Amazon stock prices\n",
    "Using historical data from Yahoo for 2014-10-01 to 2016-09-30, we computed historical returns in a Google sheet, and now we will do a Monte Carlo simulation using the standard  deviation of returns."
   ]
  },
  {
   "cell_type": "code",
   "execution_count": 5,
   "metadata": {
    "collapsed": false
   },
   "outputs": [
    {
     "name": "stdout",
     "output_type": "stream",
     "text": [
      "Populating the interactive namespace from numpy and matplotlib\n"
     ]
    },
    {
     "data": {
      "text/plain": [
       "(array([ 0.        ,  0.        ,  0.        ,  0.        ,  0.        ,\n",
       "         0.        ,  0.        ,  0.        ,  0.        ,  0.        ,\n",
       "         0.        ,  0.        ,  0.        ,  0.        ,  0.        ,\n",
       "         0.        ,  0.        ,  0.        ,  0.        ,  0.        ,\n",
       "         0.        ,  0.        ,  0.        ,  0.        ,  0.        ,\n",
       "         0.        ,  0.        ,  0.        ,  0.00453721,  0.        ,\n",
       "         0.        ,  0.        ,  0.        ,  0.        ,  0.        ,\n",
       "         0.        ,  0.        ,  0.        ,  0.        ,  0.        ,\n",
       "         0.        ,  0.        ,  0.        ,  0.        ,  0.        ,\n",
       "         0.        ,  0.        ,  0.        ,  0.        ,  0.        ]),\n",
       " array([-5492.51307023, -5272.11314335, -5051.71321647, -4831.31328959,\n",
       "        -4610.91336271, -4390.51343583, -4170.11350894, -3949.71358206,\n",
       "        -3729.31365518, -3508.9137283 , -3288.51380142, -3068.11387454,\n",
       "        -2847.71394766, -2627.31402078, -2406.9140939 , -2186.51416701,\n",
       "        -1966.11424013, -1745.71431325, -1525.31438637, -1304.91445949,\n",
       "        -1084.51453261,  -864.11460573,  -643.71467885,  -423.31475197,\n",
       "         -202.91482508,    17.4851018 ,   237.88502868,   458.28495556,\n",
       "          678.68488244,   899.08480932,  1119.4847362 ,  1339.88466308,\n",
       "         1560.28458996,  1780.68451685,  2001.08444373,  2221.48437061,\n",
       "         2441.88429749,  2662.28422437,  2882.68415125,  3103.08407813,\n",
       "         3323.48400501,  3543.88393189,  3764.28385878,  3984.68378566,\n",
       "         4205.08371254,  4425.48363942,  4645.8835663 ,  4866.28349318,\n",
       "         5086.68342006,  5307.08334694,  5527.48327382]),\n",
       " <a list of 50 Patch objects>)"
      ]
     },
     "execution_count": 5,
     "metadata": {},
     "output_type": "execute_result"
    },
    {
     "data": {
      "image/png": "[encoded data removed]",
      "text/plain": [
       "<matplotlib.figure.Figure at 0x9758627908>"
      ]
     },
     "metadata": {},
     "output_type": "display_data"
    }
   ],
   "source": [
    "import numpy as np\n",
    "%pylab inline\n",
    "import numpy as np\n",
    "import matplotlib.pyplot as plt\n",
    "\n",
    "current_price  = 837.31\n",
    "sigma_one_day = 0.02\n",
    "\n",
    "#for Monte Carlo, we generate random log returns, apply to the \n",
    "#current price to find simulated future prices.\n",
    "num_trials = 1000\n",
    "mean_daily_return = 0\n",
    "simulated_log_returns = np.random.normal(mean_daily_return,sigma_one_day,num_trials)\n",
    "simulated_prices = [current_price*np.exp(ret) \n",
    "                    for ret in simulated_log_returns]\n",
    "\n",
    "num_shares_AMZN = 100\n",
    "profit_and_loss = [num_shares_AMZN *(price-current_price)\n",
    "                  for  price in simulated_prices]\n",
    "\n",
    "var_quatile = 0.05\n",
    "profit_and_loss\n",
    "\n",
    "simulated_prices\n",
    "np.std(simulated_prices)\n",
    "price_sigma = np.std(simulated_prices)\n",
    "plt.hist(simulated_prices,bins = 50,normed = True,\n",
    "        align = 'left',rwidth = 0.3,\n",
    "         range = (min(profit_and_loss),max(profit_and_loss)))\n",
    "\n"
   ]
  }
 ],
 "metadata": {
  "anaconda-cloud": {},
  "kernelspec": {
   "display_name": "Python [default]",
   "language": "python",
   "name": "python3"
  },
  "language_info": {
   "codemirror_mode": {
    "name": "ipython",
    "version": 3
   },
   "file_extension": ".py",
   "mimetype": "text/x-python",
   "name": "python",
   "nbconvert_exporter": "python",
   "pygments_lexer": "ipython3",
   "version": "3.5.2"
  }
 },
 "nbformat": 4,
 "nbformat_minor": 1
}
