{
 "cells": [
  {
   "cell_type": "markdown",
   "metadata": {
    "collapsed": true
   },
   "source": [
    "# Simulate Amazon stock prices\n",
    "Using historical data from Yahoo for 2014-10-01 to 2016-09-30, we computed historical returns in a Google sheet, and now we will do a Monte Carlo simulation using the standard  deviation of returns."
   ]
  },
  {
   "cell_type": "code",
   "execution_count": 11,
   "metadata": {
    "collapsed": false
   },
   "outputs": [
    {
     "name": "stdout",
     "output_type": "stream",
     "text": [
      "Populating the interactive namespace from numpy and matplotlib\n"
     ]
    },
    {
     "data": {
      "text/plain": [
       "(array([ 0.        ,  0.        ,  0.        ,  0.        ,  0.        ,\n",
       "         0.        ,  0.        ,  0.        ,  0.        ,  0.        ,\n",
       "         0.        ,  0.        ,  0.        ,  0.        ,  0.        ,\n",
       "         0.        ,  0.        ,  0.        ,  0.        ,  0.        ,\n",
       "         0.        ,  0.        ,  0.00085193,  0.        ,  0.        ,\n",
       "         0.        ,  0.        ,  0.        ,  0.        ,  0.        ,\n",
       "         0.        ,  0.        ,  0.        ,  0.        ,  0.        ,\n",
       "         0.        ,  0.        ,  0.        ,  0.        ,  0.        ,\n",
       "         0.        ,  0.        ,  0.        ,  0.        ,  0.        ,\n",
       "         0.        ,  0.        ,  0.        ,  0.        ,  0.        ]),\n",
       " array([-25244.32819081, -24070.51802807, -22896.70786533, -21722.89770259,\n",
       "        -20549.08753984, -19375.2773771 , -18201.46721436, -17027.65705162,\n",
       "        -15853.84688888, -14680.03672614, -13506.2265634 , -12332.41640066,\n",
       "        -11158.60623792,  -9984.79607517,  -8810.98591243,  -7637.17574969,\n",
       "         -6463.36558695,  -5289.55542421,  -4115.74526147,  -2941.93509873,\n",
       "         -1768.12493599,   -594.31477325,    579.49538949,   1753.30555224,\n",
       "          2927.11571498,   4100.92587772,   5274.73604046,   6448.5462032 ,\n",
       "          7622.35636594,   8796.16652868,   9969.97669142,  11143.78685416,\n",
       "         12317.59701691,  13491.40717965,  14665.21734239,  15839.02750513,\n",
       "         17012.83766787,  18186.64783061,  19360.45799335,  20534.26815609,\n",
       "         21708.07831883,  22881.88848158,  24055.69864432,  25229.50880706,\n",
       "         26403.3189698 ,  27577.12913254,  28750.93929528,  29924.74945802,\n",
       "         31098.55962076,  32272.3697835 ,  33446.17994624]),\n",
       " <a list of 50 Patch objects>)"
      ]
     },
     "execution_count": 11,
     "metadata": {},
     "output_type": "execute_result"
    },
    {
     "data": {
      "image/png": "[encoded data removed]",
      "text/plain": [
       "<matplotlib.figure.Figure at 0x9759b47d30>"
      ]
     },
     "metadata": {},
     "output_type": "display_data"
    }
   ],
   "source": [
    "import numpy as np\n",
    "%pylab inline\n",
    "import numpy as np\n",
    "import matplotlib.pyplot as plt\n",
    "\n",
    "current_price  = 837.31\n",
    "sigma_one_day = 0.1\n",
    "\n",
    "#for Monte Carlo, we generate random log returns, apply to the \n",
    "#current price to find simulated future prices.\n",
    "num_trials = 1000\n",
    "mean_daily_return = 0\n",
    "simulated_log_returns = np.random.normal(mean_daily_return,sigma_one_day,num_trials)\n",
    "simulated_prices = [current_price*np.exp(ret) \n",
    "                    for ret in simulated_log_returns]\n",
    "\n",
    "num_shares_AMZN = 100\n",
    "profit_and_loss = [num_shares_AMZN *(price-current_price)\n",
    "                  for  price in simulated_prices]\n",
    "\n",
    "var_quantile = 0.05\n",
    "VaR = -sorted(profit_and_loss)[int(var_quantile*num_trials)]\n",
    "print(VaR)\n",
    "\n",
    "VaR_excession = [loss for loss in profit_and_loss if loss < -VaR]\n",
    "\n",
    "\n",
    "simulated_prices\n",
    "np.std(simulated_prices)\n",
    "price_sigma = np.std(simulated_prices)\n",
    "plt.hist(simulated_prices,bins = 50,normed = True,\n",
    "        align = 'left',rwidth = 0.3,\n",
    "         range = (min(profit_and_loss),max(profit_and_loss)))\n",
    "\n"
   ]
  }
 ],
 "metadata": {
  "anaconda-cloud": {},
  "kernelspec": {
   "display_name": "Python [default]",
   "language": "python",
   "name": "python3"
  },
  "language_info": {
   "codemirror_mode": {
    "name": "ipython",
    "version": 3
   },
   "file_extension": ".py",
   "mimetype": "text/x-python",
   "name": "python",
   "nbconvert_exporter": "python",
   "pygments_lexer": "ipython3",
   "version": "3.5.2"
  }
 },
 "nbformat": 4,
 "nbformat_minor": 1
}
