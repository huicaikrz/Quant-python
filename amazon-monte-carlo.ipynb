{
 "cells": [
  {
   "cell_type": "markdown",
   "metadata": {
    "collapsed": true
   },
   "source": [
    "# Simulate Amazon stock prices\n",
    "Using historical data from Yahoo for 2014-10-01 to 2016-09-30, we computed historical returns in a Google sheet, and now we will do a Monte Carlo simulation using the standard  deviation of returns."
   ]
  },
  {
   "cell_type": "code",
   "execution_count": 1,
   "metadata": {
    "collapsed": false
   },
   "outputs": [
    {
     "name": "stdout",
     "output_type": "stream",
     "text": [
      "Populating the interactive namespace from numpy and matplotlib\n",
      "VaR = 23290.0244403\n",
      "ES = 28050.4742424\n"
     ]
    }
   ],
   "source": [
    "%pylab inline\n",
    "import numpy as np\n",
    "import matplotlib.pyplot as plt\n",
    "\n",
    "current_price = 837.31\n",
    "sigma_one_day = 0.2\n",
    "\n",
    "# for Monte Carlo, we generate random log returns, apply to the \n",
    "# current price to find simulated future prices.\n",
    "num_trials = 10000\n",
    "mean_daily_return = 0\n",
    "simulated_log_returns = np.random.normal(mean_daily_return, \n",
    "                                         sigma_one_day, num_trials)\n",
    "simulated_prices = [current_price * np.exp(ret) \n",
    "                    for ret in simulated_log_returns]\n",
    "\n",
    "num_shares_AMZN = 100\n",
    "profit_and_loss = [num_shares_AMZN * (price - current_price) \n",
    "                   for price in simulated_prices]\n",
    "var_quantile = 0.05\n",
    "VaR = -sorted(profit_and_loss)[int(var_quantile * num_trials)]\n",
    "print('VaR = ' + str(VaR))\n",
    "\n",
    "VaR_excessions = [loss for loss in profit_and_loss if loss < -VaR]\n",
    "ES = - np.mean(VaR_excessions)\n",
    "print('ES = ' + str(ES))\n",
    "\n",
    "\n",
    "\n",
    "# num_bins = 50\n",
    "# price_sigma = np.std(simulated_prices)\n",
    "# plt.hist(profit_and_loss, bins = num_bins, normed = True, \n",
    "#          align = 'left', rwidth=0.3, \n",
    "#          range = (min(profit_and_loss), max(profit_and_loss)))\n",
    "\n",
    "\n",
    "# plt.hist(simulated_log_returns, bins = num_bins, normed = True, \n",
    "#          align = 'left', rwidth=0.3, \n",
    "#          range = (mean_daily_return-3*sigma_one_day, mean_daily_return+3*sigma_one_day))"
   ]
  }
 ],
 "metadata": {
  "anaconda-cloud": {},
  "kernelspec": {
   "display_name": "Python [default]",
   "language": "python",
   "name": "python3"
  },
  "language_info": {
   "codemirror_mode": {
    "name": "ipython",
    "version": 3
   },
   "file_extension": ".py",
   "mimetype": "text/x-python",
   "name": "python",
   "nbconvert_exporter": "python",
   "pygments_lexer": "ipython3",
   "version": "3.5.2"
  }
 },
 "nbformat": 4,
 "nbformat_minor": 1
}
