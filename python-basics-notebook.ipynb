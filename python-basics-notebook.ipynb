{
 "cells": [
  {
   "cell_type": "markdown",
   "metadata": {},
   "source": [
    "# Python Basics\n",
    "\n",
    "This is a collection of exercises that I wrote as a refresher of key Python features.\n",
    "\n",
    "## Built-in datatypes and variable binding\n",
    "Python uses <a href=“http://stackoverflow.com/questions/11328920/is-python-strongly-typed”>dynamic typing</a>. In short, this means that the type of data in a variable is not explicitly identified in a program, like it is in C++ or Java. "
   ]
  },
  {
   "cell_type": "code",
   "execution_count": 4,
   "metadata": {},
   "outputs": [
    {
     "name": "stdout",
     "output_type": "stream",
     "text": [
      "2 <class 'int'>\n",
      "115792089237316195423570985008687907853269984665640564039457584007913129639936 <class 'int'>\n",
      "(1, 5) <class 'tuple'>\n",
      "U of M <class 'str'>\n",
      "False <class 'bool'>\n",
      "['a', 2, 3.14, True] <class 'list'>\n"
     ]
    }
   ],
   "source": [
    "x = 2\n",
    "print(x, type(x))\n",
    "x = 2**256\n",
    "print(x, type(x))\n",
    "x = 2**0,5\n",
    "print(x, type(x))\n",
    "x = 'U of M'\n",
    "print(x, type(x))\n",
    "x = False\n",
    "print(x, type(x))\n",
    "x = ['a', 2, 3.14, not False]\n",
    "print(x, type(x))"
   ]
  },
  {
   "cell_type": "markdown",
   "metadata": {},
   "source": [
    "## ints and floats"
   ]
  },
  {
   "cell_type": "code",
   "execution_count": 12,
   "metadata": {
    "scrolled": true
   },
   "outputs": [
    {
     "name": "stdout",
     "output_type": "stream",
     "text": [
      "7//2 = 3\n",
      "7%2 = 1\n"
     ]
    }
   ],
   "source": [
    "print('7//2 =', 7//2)\n",
    "print('7%2 =', 7%2)\n",
    "print('7/2 =',7/2)"
   ]
  },
  {
   "cell_type": "markdown",
   "metadata": {},
   "source": [
    "## boolean\n",
    "Python's boolean values are True and False. It is case-sensitive: capitalizing the first letter is required."
   ]
  },
  {
   "cell_type": "code",
   "execution_count": 13,
   "metadata": {},
   "outputs": [
    {
     "name": "stdout",
     "output_type": "stream",
     "text": [
      "a is True\n",
      "b is False\n",
      "a or b is True\n"
     ]
    }
   ],
   "source": [
    "a = True\n",
    "b = not a\n",
    "print('a is '+str(a))\n",
    "print('b is '+str(b))\n",
    "print('a and b is '+str(a and b))\n",
    "print('a or b is '+str(a or b))"
   ]
  },
  {
   "cell_type": "markdown",
   "metadata": {},
   "source": [
    "### Strings"
   ]
  },
  {
   "cell_type": "code",
   "execution_count": 20,
   "metadata": {
    "scrolled": false
   },
   "outputs": [
    {
     "name": "stdout",
     "output_type": "stream",
     "text": [
      "Hello, World\n",
      "['Hello,', 'World']\n",
      "Hello, World\n"
     ]
    }
   ],
   "source": [
    "a = 'Hello'\n",
    "b = 'World'\n",
    "c = a + ', ' + b\n",
    "print(c)\n",
    "words = c.split()\n",
    "print(words)\n",
    "print(' '.join(words))"
   ]
  },
  {
   "cell_type": "markdown",
   "metadata": {},
   "source": [
    "### Lists and "
   ]
  },
  {
   "cell_type": "code",
   "execution_count": 1,
   "metadata": {},
   "outputs": [
    {
     "data": {
      "text/plain": [
       "14"
      ]
     },
     "execution_count": 1,
     "metadata": {},
     "output_type": "execute_result"
    }
   ],
   "source": [
    "#shortcut for list of consecutive integers\n",
    "x = range(10,15)\n",
    "x[0:3]\n",
    "x[2:4]\n",
    "x = [10, 11, 12, 13, 14]\n",
    "x[2:]\n",
    "x[:3]\n",
    "x[1::2]\n",
    "x[::-1]\n",
    "x[-1]\n",
    "#slices"
   ]
  },
  {
   "cell_type": "code",
   "execution_count": 35,
   "metadata": {},
   "outputs": [
    {
     "name": "stdout",
     "output_type": "stream",
     "text": [
      "[0, 1, 4, 9, 16, 25, 36, 49, 64, 81]\n",
      "[(0, 0), (1, 1), (2, 4), (3, 9), (4, 16), (5, 25), (6, 36), (7, 49), (8, 64), (9, 81)]\n"
     ]
    }
   ],
   "source": [
    "#List comprehension\n",
    "# create a list of squares for integers 0 to 9\n",
    "[x*x for x in range(10)]\n",
    "# create a list of tuples (x, x*x) for integers 0 to 9\n",
    "[(x, x*x) for x in range(10)]\n",
    "# create a list of tuples (x, x*x, x**3) for integers 0 to 9\n",
    "[(x, x*x, x*x*x) for x in range(10)]"
   ]
  },
  {
   "cell_type": "markdown",
   "metadata": {},
   "source": [
    "## Looping (for, while, reduce)"
   ]
  },
  {
   "cell_type": "code",
   "execution_count": 2,
   "metadata": {},
   "outputs": [
    {
     "data": {
      "text/plain": [
       "5050"
      ]
     },
     "execution_count": 2,
     "metadata": {},
     "output_type": "execute_result"
    }
   ],
   "source": [
    "#for\n",
    "#sum integers from 1 to 100\n",
    "sum_ = 0\n",
    "for i in range(1, 101):\n",
    "    sum_ += i\n",
    "sum_"
   ]
  },
  {
   "cell_type": "code",
   "execution_count": 3,
   "metadata": {},
   "outputs": [
    {
     "name": "stdout",
     "output_type": "stream",
     "text": [
      "5050\n"
     ]
    }
   ],
   "source": [
    "#while\n",
    "#sum integers from 1 to 100\n",
    "sum_ = 0\n",
    "i = 1\n",
    "while i < 101:\n",
    "    sum_ += i\n",
    "    i += 1\n",
    "print(sum_)"
   ]
  },
  {
   "cell_type": "code",
   "execution_count": 4,
   "metadata": {},
   "outputs": [
    {
     "data": {
      "text/plain": [
       "5050"
      ]
     },
     "execution_count": 4,
     "metadata": {},
     "output_type": "execute_result"
    }
   ],
   "source": [
    "#concise way to sum integers from 1 to 100 using reduce\n",
    "import functools\n",
    "functools.reduce(lambda i, sum_: i + sum_, range(1, 101))"
   ]
  },
  {
   "cell_type": "code",
   "execution_count": 5,
   "metadata": {},
   "outputs": [
    {
     "data": {
      "text/plain": [
       "5050"
      ]
     },
     "execution_count": 5,
     "metadata": {},
     "output_type": "execute_result"
    }
   ],
   "source": [
    "#use the sum function\n",
    "sum(range(1,101))"
   ]
  },
  {
   "cell_type": "code",
   "execution_count": 15,
   "metadata": {},
   "outputs": [
    {
     "name": "stdout",
     "output_type": "stream",
     "text": [
      "5050.0\n"
     ]
    }
   ],
   "source": [
    "#preferred way to sum floating point (faster)\n",
    "import math\n",
    "math.fsum(range(1,101))"
   ]
  },
  {
   "cell_type": "markdown",
   "metadata": {},
   "source": [
    "### Conditional execution (if)\n"
   ]
  },
  {
   "cell_type": "code",
   "execution_count": 4,
   "metadata": {},
   "outputs": [
    {
     "name": "stdout",
     "output_type": "stream",
     "text": [
      "0.6112836656043371 is above median\n"
     ]
    }
   ],
   "source": [
    "import random\n",
    "r = random.random()\n",
    "if r < 0.25:\n",
    "    print(str(r) + ' is bottom quartile')\n",
    "elif r < 0.5:\n",
    "    print(str(r) + ' is 2nd quartile')\n",
    "else:\n",
    "    print(str(r) + ' is above median')"
   ]
  },
  {
   "cell_type": "markdown",
   "metadata": {},
   "source": [
    "### Dictionaries"
   ]
  },
  {
   "cell_type": "code",
   "execution_count": 7,
   "metadata": {},
   "outputs": [
    {
     "data": {
      "text/plain": [
       "160"
      ]
     },
     "execution_count": 7,
     "metadata": {},
     "output_type": "execute_result"
    }
   ],
   "source": [
    "prices = {'AMZN': 985, 'APPL': 160, 'FB': 168}\n",
    "prices['APPL']"
   ]
  },
  {
   "cell_type": "code",
   "execution_count": 14,
   "metadata": {},
   "outputs": [
    {
     "data": {
      "text/plain": [
       "{'0': 28,\n",
       " '1': 34,\n",
       " '2': 23,\n",
       " '3': 25,\n",
       " '4': 35,\n",
       " '5': 35,\n",
       " '6': 34,\n",
       " '7': 35,\n",
       " '8': 30,\n",
       " '9': 23}"
      ]
     },
     "execution_count": 14,
     "metadata": {},
     "output_type": "execute_result"
    }
   ],
   "source": [
    "#distribution of characters in a string\n",
    "s = \"The quick brown fox jumps over the lazy dog.\"\n",
    "s = str(2**1000)\n",
    "charToCountDictionary = {c:0 for c in s}\n",
    "for c in s:\n",
    "    charToCountDictionary[c] += 1\n",
    "charToCountDictionary\n"
   ]
  },
  {
   "cell_type": "markdown",
   "metadata": {},
   "source": [
    "## Functions"
   ]
  },
  {
   "cell_type": "code",
   "execution_count": 7,
   "metadata": {},
   "outputs": [
    {
     "name": "stdout",
     "output_type": "stream",
     "text": [
      "0! = 1\n",
      "1! = 1\n",
      "2! = 2\n",
      "3! = 6\n",
      "4! = 24\n"
     ]
    }
   ],
   "source": [
    "def factorial(n):\n",
    "    if n == 0:\n",
    "        return 1\n",
    "    else:\n",
    "        return factorial(n-1)*n\n",
    "for n in range(0,5):\n",
    "    print(str(n) +\"! =\", factorial(n))\n"
   ]
  },
  {
   "cell_type": "code",
   "execution_count": 9,
   "metadata": {},
   "outputs": [
    {
     "data": {
      "text/plain": [
       "16"
      ]
     },
     "execution_count": 9,
     "metadata": {},
     "output_type": "execute_result"
    }
   ],
   "source": [
    "def gcd(a, b):\n",
    "    a,b = max(a,b),min(a,b)\n",
    "    if a%b == 0:\n",
    "        return b\n",
    "    else:\n",
    "        return gcd(a%b,a)\n",
    "    \n",
    "gcd(144, 1024)"
   ]
  },
  {
   "cell_type": "code",
   "execution_count": 8,
   "metadata": {},
   "outputs": [
    {
     "data": {
      "text/plain": [
       "42.416"
      ]
     },
     "execution_count": 8,
     "metadata": {},
     "output_type": "execute_result"
    }
   ],
   "source": [
    "import random\n",
    "    \n",
    "def simulate_hyper_ant(num_dimensions):\n",
    "    position = [0] * num_dimensions\n",
    "    steps = 0\n",
    "    steps_from_start = 0\n",
    "    while steps_from_start < num_dimensions:\n",
    "        dim_to_change = random.randint(0, num_dimensions - 1)\n",
    "        if position[dim_to_change] == 0:\n",
    "            position[dim_to_change] = 1\n",
    "            steps_from_start += 1\n",
    "        else:\n",
    "            position[dim_to_change] = 0\n",
    "            steps_from_start -= 1\n",
    "        steps += 1\n",
    "    return steps\n",
    "\n",
    "n = 10000\n",
    "dim = 5\n",
    "sum([simulate_hyper_ant(dim) for i in range(n)]) / float(n)"
   ]
  }
 ],
 "metadata": {
  "anaconda-cloud": {},
  "kernelspec": {
   "display_name": "Python 3",
   "language": "python",
   "name": "python3"
  },
  "language_info": {
   "codemirror_mode": {
    "name": "ipython",
    "version": 3
   },
   "file_extension": ".py",
   "mimetype": "text/x-python",
   "name": "python",
   "nbconvert_exporter": "python",
   "pygments_lexer": "ipython3",
   "version": "3.6.5"
  }
 },
 "nbformat": 4,
 "nbformat_minor": 1
}
