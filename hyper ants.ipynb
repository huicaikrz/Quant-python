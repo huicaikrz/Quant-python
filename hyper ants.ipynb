{
 "cells": [
  {
   "cell_type": "markdown",
   "metadata": {},
   "source": [
    "# Hyper-ants: ants traveling in hyperspace\n",
    "\n",
    "An ant is at the origin in n-dimensional Euclidean space, and is about to traverse the edges of a hypercube with sides of unit length. At each vertex, the ant randomly chooses an edge, and moves to the next vertex. On average, how far will the ant travel until it reaches (1, 1, ..., 1)?"
   ]
  },
  {
   "cell_type": "code",
   "execution_count": 18,
   "metadata": {},
   "outputs": [
    {
     "data": {
      "text/plain": [
       "{4: 889,\n",
       " 6: 954,\n",
       " 8: 820,\n",
       " 10: 779,\n",
       " 12: 646,\n",
       " 14: 607,\n",
       " 16: 561,\n",
       " 18: 453,\n",
       " 20: 437,\n",
       " 22: 402,\n",
       " 24: 382,\n",
       " 26: 330,\n",
       " 28: 274,\n",
       " 30: 265,\n",
       " 32: 252,\n",
       " 34: 190,\n",
       " 36: 204,\n",
       " 38: 161,\n",
       " 40: 151,\n",
       " 42: 141,\n",
       " 44: 107,\n",
       " 46: 104,\n",
       " 48: 78,\n",
       " 50: 68,\n",
       " 52: 71,\n",
       " 54: 68,\n",
       " 56: 64,\n",
       " 58: 55,\n",
       " 60: 43,\n",
       " 62: 52,\n",
       " 64: 36,\n",
       " 66: 38,\n",
       " 68: 32,\n",
       " 70: 30,\n",
       " 72: 29,\n",
       " 74: 15,\n",
       " 76: 20,\n",
       " 78: 19,\n",
       " 80: 12,\n",
       " 82: 18,\n",
       " 84: 15,\n",
       " 86: 14,\n",
       " 88: 10,\n",
       " 90: 6,\n",
       " 92: 14,\n",
       " 94: 9,\n",
       " 96: 6,\n",
       " 98: 10,\n",
       " 100: 4,\n",
       " 102: 6,\n",
       " 104: 4,\n",
       " 106: 6,\n",
       " 108: 4,\n",
       " 110: 2,\n",
       " 112: 4,\n",
       " 114: 3,\n",
       " 116: 3,\n",
       " 122: 1,\n",
       " 124: 2,\n",
       " 126: 2,\n",
       " 128: 2,\n",
       " 130: 4,\n",
       " 132: 1,\n",
       " 136: 1,\n",
       " 138: 1,\n",
       " 140: 1,\n",
       " 142: 1,\n",
       " 144: 1,\n",
       " 146: 1,\n",
       " 150: 1,\n",
       " 154: 1,\n",
       " 160: 1,\n",
       " 168: 1,\n",
       " 174: 1}"
      ]
     },
     "execution_count": 18,
     "metadata": {},
     "output_type": "execute_result"
    }
   ],
   "source": [
    "from random import randint\n",
    "\n",
    "def sum_workaround(vertex):\n",
    "    sum_ = 0\n",
    "    for coordinate in vertex:\n",
    "        sum_ += coordinate\n",
    "    return sum_\n",
    "\n",
    "def number_of_moves(dimension):\n",
    "    # return the number of moves needed for \n",
    "    # one simulated trip by the ant.\n",
    "    vertex = [0] * dimension\n",
    "    move_count = 0\n",
    "    while sum(vertex) < dimension:\n",
    "        axis_choice = randint(0, dimension - 1)\n",
    "        vertex[axis_choice] = 1 - vertex[axis_choice]\n",
    "        move_count += 1\n",
    "    return move_count\n",
    "        \n",
    "\n",
    "number_of_trials = 10000\n",
    "trials = [number_of_moves(4) for i in range(number_of_trials)]\n",
    "# initialize dictionary to count frequency of number of moves\n",
    "number_moves_count = {trial:0 for trial in trials}\n",
    "for trial in trials:\n",
    "    number_moves_count[trial] += 1    \n",
    "number_moves_count\n"
   ]
  },
  {
   "cell_type": "code",
   "execution_count": null,
   "metadata": {
    "collapsed": true
   },
   "outputs": [],
   "source": []
  }
 ],
 "metadata": {
  "kernelspec": {
   "display_name": "Python 3",
   "language": "python",
   "name": "python3"
  },
  "language_info": {
   "codemirror_mode": {
    "name": "ipython",
    "version": 3
   },
   "file_extension": ".py",
   "mimetype": "text/x-python",
   "name": "python",
   "nbconvert_exporter": "python",
   "pygments_lexer": "ipython3",
   "version": "3.6.1"
  }
 },
 "nbformat": 4,
 "nbformat_minor": 2
}
